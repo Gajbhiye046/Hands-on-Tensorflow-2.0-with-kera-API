{
 "cells": [
  {
   "cell_type": "markdown",
   "metadata": {
    "id": "zJMS8p3wfPXO"
   },
   "source": [
    "## Stage 1: Installing dependencies and notebook gpu setup"
   ]
  },
  {
   "cell_type": "markdown",
   "metadata": {
    "id": "lRHFdNYAfWKJ"
   },
   "source": [
    "## Stage 2: Importing dependencies for the project"
   ]
  },
  {
   "cell_type": "code",
   "execution_count": 27,
   "metadata": {
    "colab": {
     "base_uri": "https://localhost:8080/",
     "height": 36
    },
    "executionInfo": {
     "elapsed": 435,
     "status": "ok",
     "timestamp": 1637735968327,
     "user": {
      "displayName": "Abhishek Gajbhiye",
      "photoUrl": "https://lh3.googleusercontent.com/a-/AOh14GgW0O8kunk-ZPyfVf2yoMjJ1E21N_FfD-5Ht-zVW2I=s64",
      "userId": "03842221385532258201"
     },
     "user_tz": -330
    },
    "id": "tS5xFeQwe9Xu",
    "outputId": "c536bd2f-1c83-4f50-de1a-fa28aa8779e8"
   },
   "outputs": [
    {
     "data": {
      "application/vnd.google.colaboratory.intrinsic+json": {
       "type": "string"
      },
      "text/plain": [
       "'2.7.0'"
      ]
     },
     "execution_count": 27,
     "metadata": {},
     "output_type": "execute_result"
    }
   ],
   "source": [
    "import tensorflow as tf\n",
    "import matplotlib.pyplot as plt\n",
    "\n",
    "from tensorflow.keras.datasets import cifar10\n",
    "\n",
    "%matplotlib inline\n",
    "tf.__version__"
   ]
  },
  {
   "cell_type": "markdown",
   "metadata": {
    "id": "e8zYubaPfy-S"
   },
   "source": [
    "## Stage 3: Dataset preprocessing"
   ]
  },
  {
   "cell_type": "markdown",
   "metadata": {
    "id": "AOAGjiPogF0w"
   },
   "source": [
    "### Loading the Cifar10 dataset"
   ]
  },
  {
   "cell_type": "code",
   "execution_count": 28,
   "metadata": {
    "executionInfo": {
     "elapsed": 10,
     "status": "ok",
     "timestamp": 1637735968691,
     "user": {
      "displayName": "Abhishek Gajbhiye",
      "photoUrl": "https://lh3.googleusercontent.com/a-/AOh14GgW0O8kunk-ZPyfVf2yoMjJ1E21N_FfD-5Ht-zVW2I=s64",
      "userId": "03842221385532258201"
     },
     "user_tz": -330
    },
    "id": "v1N6LbS-e9a1"
   },
   "outputs": [],
   "source": [
    "#Setting class names for the dataset\n",
    "class_names = ['airplane', 'automobile', 'bird', 'cat', 'deer', 'dog', 'frog', 'horse', 'ship', 'truck']"
   ]
  },
  {
   "cell_type": "code",
   "execution_count": 29,
   "metadata": {
    "executionInfo": {
     "elapsed": 1054,
     "status": "ok",
     "timestamp": 1637735969737,
     "user": {
      "displayName": "Abhishek Gajbhiye",
      "photoUrl": "https://lh3.googleusercontent.com/a-/AOh14GgW0O8kunk-ZPyfVf2yoMjJ1E21N_FfD-5Ht-zVW2I=s64",
      "userId": "03842221385532258201"
     },
     "user_tz": -330
    },
    "id": "f13-8-m_fqKP"
   },
   "outputs": [],
   "source": [
    "#Loading the dataset\n",
    "(X_train, y_train), (X_test, y_test) = cifar10.load_data()"
   ]
  },
  {
   "cell_type": "markdown",
   "metadata": {
    "id": "XqDIpsJWgUkz"
   },
   "source": [
    "### Image normalization"
   ]
  },
  {
   "cell_type": "code",
   "execution_count": 30,
   "metadata": {
    "executionInfo": {
     "elapsed": 669,
     "status": "ok",
     "timestamp": 1637735970384,
     "user": {
      "displayName": "Abhishek Gajbhiye",
      "photoUrl": "https://lh3.googleusercontent.com/a-/AOh14GgW0O8kunk-ZPyfVf2yoMjJ1E21N_FfD-5Ht-zVW2I=s64",
      "userId": "03842221385532258201"
     },
     "user_tz": -330
    },
    "id": "-QFncPlpgNmU"
   },
   "outputs": [],
   "source": [
    "X_train = X_train / 255.0"
   ]
  },
  {
   "cell_type": "code",
   "execution_count": 31,
   "metadata": {
    "colab": {
     "base_uri": "https://localhost:8080/"
    },
    "executionInfo": {
     "elapsed": 23,
     "status": "ok",
     "timestamp": 1637735970388,
     "user": {
      "displayName": "Abhishek Gajbhiye",
      "photoUrl": "https://lh3.googleusercontent.com/a-/AOh14GgW0O8kunk-ZPyfVf2yoMjJ1E21N_FfD-5Ht-zVW2I=s64",
      "userId": "03842221385532258201"
     },
     "user_tz": -330
    },
    "id": "L1rFHX67gc6G",
    "outputId": "0de5f81b-5475-423c-f0f9-83bebc46b96f"
   },
   "outputs": [
    {
     "data": {
      "text/plain": [
       "(50000, 32, 32, 3)"
      ]
     },
     "execution_count": 31,
     "metadata": {},
     "output_type": "execute_result"
    }
   ],
   "source": [
    "X_train.shape"
   ]
  },
  {
   "cell_type": "code",
   "execution_count": 32,
   "metadata": {
    "executionInfo": {
     "elapsed": 17,
     "status": "ok",
     "timestamp": 1637735970390,
     "user": {
      "displayName": "Abhishek Gajbhiye",
      "photoUrl": "https://lh3.googleusercontent.com/a-/AOh14GgW0O8kunk-ZPyfVf2yoMjJ1E21N_FfD-5Ht-zVW2I=s64",
      "userId": "03842221385532258201"
     },
     "user_tz": -330
    },
    "id": "Ve2WbRGWgc3I"
   },
   "outputs": [],
   "source": [
    "X_test = X_test / 255.0"
   ]
  },
  {
   "cell_type": "code",
   "execution_count": 33,
   "metadata": {
    "colab": {
     "base_uri": "https://localhost:8080/",
     "height": 284
    },
    "executionInfo": {
     "elapsed": 695,
     "status": "ok",
     "timestamp": 1637735971069,
     "user": {
      "displayName": "Abhishek Gajbhiye",
      "photoUrl": "https://lh3.googleusercontent.com/a-/AOh14GgW0O8kunk-ZPyfVf2yoMjJ1E21N_FfD-5Ht-zVW2I=s64",
      "userId": "03842221385532258201"
     },
     "user_tz": -330
    },
    "id": "7jwvNZ82gh9d",
    "outputId": "34cb3d27-4b79-4ec0-a001-8013d815f61e"
   },
   "outputs": [
    {
     "data": {
      "text/plain": [
       "<matplotlib.image.AxesImage at 0x7fe762f29a50>"
      ]
     },
     "execution_count": 33,
     "metadata": {},
     "output_type": "execute_result"
    },
    {
     "data": {
      "image/png": "[encoded data removed]",
      "text/plain": [
       "<Figure size 432x288 with 1 Axes>"
      ]
     },
     "metadata": {
      "needs_background": "light"
     },
     "output_type": "display_data"
    }
   ],
   "source": [
    "plt.imshow(X_test[100])"
   ]
  },
  {
   "cell_type": "markdown",
   "metadata": {
    "id": "HXiuZulIguyf"
   },
   "source": [
    "## Stage 4: Building a Convolutional neural network"
   ]
  },
  {
   "cell_type": "markdown",
   "metadata": {
    "id": "ZFTetk8ngy0f"
   },
   "source": [
    "### Defining the model"
   ]
  },
  {
   "cell_type": "code",
   "execution_count": 34,
   "metadata": {
    "executionInfo": {
     "elapsed": 20,
     "status": "ok",
     "timestamp": 1637735971070,
     "user": {
      "displayName": "Abhishek Gajbhiye",
      "photoUrl": "https://lh3.googleusercontent.com/a-/AOh14GgW0O8kunk-ZPyfVf2yoMjJ1E21N_FfD-5Ht-zVW2I=s64",
      "userId": "03842221385532258201"
     },
     "user_tz": -330
    },
    "id": "1TR0JGP5gq2i"
   },
   "outputs": [],
   "source": [
    "model = tf.keras.models.Sequential()"
   ]
  },
  {
   "cell_type": "markdown",
   "metadata": {
    "id": "j92d4FE0hTZV"
   },
   "source": [
    "### Adding the first CNN Layer\n",
    "\n",
    "CNN layer hyper-parameters:\n",
    "- filters: 32\n",
    "- kernel_size:3\n",
    "- padding: same\n",
    "- activation: relu\n",
    "- input_shape: (32, 32, 3)\n"
   ]
  },
  {
   "cell_type": "code",
   "execution_count": 35,
   "metadata": {
    "executionInfo": {
     "elapsed": 20,
     "status": "ok",
     "timestamp": 1637735971072,
     "user": {
      "displayName": "Abhishek Gajbhiye",
      "photoUrl": "https://lh3.googleusercontent.com/a-/AOh14GgW0O8kunk-ZPyfVf2yoMjJ1E21N_FfD-5Ht-zVW2I=s64",
      "userId": "03842221385532258201"
     },
     "user_tz": -330
    },
    "id": "LSkL1iOvg_dE"
   },
   "outputs": [],
   "source": [
    "model.add(tf.keras.layers.Conv2D(filters=94, kernel_size=3, padding=\"same\", activation=\"relu\", input_shape=[32, 32, 3]))"
   ]
  },
  {
   "cell_type": "markdown",
   "metadata": {
    "id": "gfRAaRmWiSlZ"
   },
   "source": [
    "### Adding the second CNN Layer and max pool layer\n",
    "\n",
    "CNN layer hyper-parameters:\n",
    "- filters: 32\n",
    "- kernel_size:3\n",
    "- padding: same\n",
    "- activation: relu\n",
    "\n",
    "MaxPool layer hyper-parameters:\n",
    "- pool_size: 2\n",
    "- strides: 2\n",
    "- padding: valid"
   ]
  },
  {
   "cell_type": "code",
   "execution_count": 36,
   "metadata": {
    "executionInfo": {
     "elapsed": 20,
     "status": "ok",
     "timestamp": 1637735971073,
     "user": {
      "displayName": "Abhishek Gajbhiye",
      "photoUrl": "https://lh3.googleusercontent.com/a-/AOh14GgW0O8kunk-ZPyfVf2yoMjJ1E21N_FfD-5Ht-zVW2I=s64",
      "userId": "03842221385532258201"
     },
     "user_tz": -330
    },
    "id": "sSl7Es5yidMp"
   },
   "outputs": [],
   "source": [
    "model.add(tf.keras.layers.Conv2D(filters=94, kernel_size=3, padding=\"same\", activation=\"relu\"))"
   ]
  },
  {
   "cell_type": "code",
   "execution_count": 37,
   "metadata": {
    "executionInfo": {
     "elapsed": 21,
     "status": "ok",
     "timestamp": 1637735971074,
     "user": {
      "displayName": "Abhishek Gajbhiye",
      "photoUrl": "https://lh3.googleusercontent.com/a-/AOh14GgW0O8kunk-ZPyfVf2yoMjJ1E21N_FfD-5Ht-zVW2I=s64",
      "userId": "03842221385532258201"
     },
     "user_tz": -330
    },
    "id": "wmP9h5wliAR6"
   },
   "outputs": [],
   "source": [
    "model.add(tf.keras.layers.MaxPool2D(pool_size=2, strides=2, padding='valid'))"
   ]
  },
  {
   "cell_type": "markdown",
   "metadata": {
    "id": "wd8ERDyvin-0"
   },
   "source": [
    "### Adding the third CNN Layer\n",
    "\n",
    "CNN layer hyper-parameters:\n",
    "\n",
    "    filters: 64\n",
    "    kernel_size:3\n",
    "    padding: same\n",
    "    activation: relu\n",
    "    input_shape: (32, 32, 3)\n"
   ]
  },
  {
   "cell_type": "code",
   "execution_count": 38,
   "metadata": {
    "executionInfo": {
     "elapsed": 21,
     "status": "ok",
     "timestamp": 1637735971076,
     "user": {
      "displayName": "Abhishek Gajbhiye",
      "photoUrl": "https://lh3.googleusercontent.com/a-/AOh14GgW0O8kunk-ZPyfVf2yoMjJ1E21N_FfD-5Ht-zVW2I=s64",
      "userId": "03842221385532258201"
     },
     "user_tz": -330
    },
    "id": "i9HWy6aFixEw"
   },
   "outputs": [],
   "source": [
    "model.add(tf.keras.layers.Conv2D(filters=64, kernel_size=3, padding=\"same\", activation=\"relu\"))"
   ]
  },
  {
   "cell_type": "markdown",
   "metadata": {
    "id": "O55kyOQGi44V"
   },
   "source": [
    "###  Adding the fourth CNN Layer and max pool layer\n",
    "\n",
    "CNN layer hyper-parameters:\n",
    "\n",
    "    filters: 64\n",
    "    kernel_size:3\n",
    "    padding: same\n",
    "    activation: relu\n",
    "\n",
    "MaxPool layer hyper-parameters:\n",
    "\n",
    "    pool_size: 2\n",
    "    strides: 2\n",
    "    padding: valid\n"
   ]
  },
  {
   "cell_type": "code",
   "execution_count": 39,
   "metadata": {
    "executionInfo": {
     "elapsed": 21,
     "status": "ok",
     "timestamp": 1637735971076,
     "user": {
      "displayName": "Abhishek Gajbhiye",
      "photoUrl": "https://lh3.googleusercontent.com/a-/AOh14GgW0O8kunk-ZPyfVf2yoMjJ1E21N_FfD-5Ht-zVW2I=s64",
      "userId": "03842221385532258201"
     },
     "user_tz": -330
    },
    "id": "5b7vAuhjjCF2"
   },
   "outputs": [],
   "source": [
    "model.add(tf.keras.layers.Conv2D(filters=64, kernel_size=3, padding=\"same\", activation=\"relu\"))"
   ]
  },
  {
   "cell_type": "code",
   "execution_count": 40,
   "metadata": {
    "executionInfo": {
     "elapsed": 20,
     "status": "ok",
     "timestamp": 1637735971076,
     "user": {
      "displayName": "Abhishek Gajbhiye",
      "photoUrl": "https://lh3.googleusercontent.com/a-/AOh14GgW0O8kunk-ZPyfVf2yoMjJ1E21N_FfD-5Ht-zVW2I=s64",
      "userId": "03842221385532258201"
     },
     "user_tz": -330
    },
    "id": "oc493G2BjFhg"
   },
   "outputs": [],
   "source": [
    "model.add(tf.keras.layers.MaxPool2D(pool_size=2, strides=2, padding='valid'))"
   ]
  },
  {
   "cell_type": "markdown",
   "metadata": {
    "id": "-hGnR3aXjKbZ"
   },
   "source": [
    "### Adding the Flatten layer"
   ]
  },
  {
   "cell_type": "code",
   "execution_count": 41,
   "metadata": {
    "executionInfo": {
     "elapsed": 666,
     "status": "ok",
     "timestamp": 1637735971724,
     "user": {
      "displayName": "Abhishek Gajbhiye",
      "photoUrl": "https://lh3.googleusercontent.com/a-/AOh14GgW0O8kunk-ZPyfVf2yoMjJ1E21N_FfD-5Ht-zVW2I=s64",
      "userId": "03842221385532258201"
     },
     "user_tz": -330
    },
    "id": "QLzu2cCVjI5Z"
   },
   "outputs": [],
   "source": [
    "model.add(tf.keras.layers.Flatten())"
   ]
  },
  {
   "cell_type": "markdown",
   "metadata": {
    "id": "GpeRUvVWjR1W"
   },
   "source": [
    "### Adding the first Dense layer\n",
    "\n",
    "Dense layer hyper-parameters:\n",
    "- units/neurons: 128\n",
    "- activation: relu"
   ]
  },
  {
   "cell_type": "code",
   "execution_count": 42,
   "metadata": {
    "executionInfo": {
     "elapsed": 37,
     "status": "ok",
     "timestamp": 1637735971725,
     "user": {
      "displayName": "Abhishek Gajbhiye",
      "photoUrl": "https://lh3.googleusercontent.com/a-/AOh14GgW0O8kunk-ZPyfVf2yoMjJ1E21N_FfD-5Ht-zVW2I=s64",
      "userId": "03842221385532258201"
     },
     "user_tz": -330
    },
    "id": "FWzYY8kKjhnZ"
   },
   "outputs": [],
   "source": [
    "model.add(tf.keras.layers.Dense(units=128, activation='relu'))"
   ]
  },
  {
   "cell_type": "code",
   "execution_count": 43,
   "metadata": {
    "colab": {
     "base_uri": "https://localhost:8080/"
    },
    "executionInfo": {
     "elapsed": 34,
     "status": "ok",
     "timestamp": 1637735971726,
     "user": {
      "displayName": "Abhishek Gajbhiye",
      "photoUrl": "https://lh3.googleusercontent.com/a-/AOh14GgW0O8kunk-ZPyfVf2yoMjJ1E21N_FfD-5Ht-zVW2I=s64",
      "userId": "03842221385532258201"
     },
     "user_tz": -330
    },
    "id": "NG2WP2xCqsbP",
    "outputId": "0cd99e34-9d8d-41fe-eddf-5000875c8919"
   },
   "outputs": [
    {
     "data": {
      "text/plain": [
       "<keras.layers.core.dropout.Dropout at 0x7fe74b5b1fd0>"
      ]
     },
     "execution_count": 43,
     "metadata": {},
     "output_type": "execute_result"
    }
   ],
   "source": [
    "tf.keras.layers.Dropout(0.2)"
   ]
  },
  {
   "cell_type": "markdown",
   "metadata": {
    "id": "UaakKTqRjrkF"
   },
   "source": [
    "### Adding the second Dense layer (output layer)\n",
    "\n",
    "Dense layer hyper-parameters:\n",
    "\n",
    " - units/neurons: 10 (number of classes)\n",
    " - activation: softmax\n"
   ]
  },
  {
   "cell_type": "code",
   "execution_count": 44,
   "metadata": {
    "executionInfo": {
     "elapsed": 28,
     "status": "ok",
     "timestamp": 1637735971726,
     "user": {
      "displayName": "Abhishek Gajbhiye",
      "photoUrl": "https://lh3.googleusercontent.com/a-/AOh14GgW0O8kunk-ZPyfVf2yoMjJ1E21N_FfD-5Ht-zVW2I=s64",
      "userId": "03842221385532258201"
     },
     "user_tz": -330
    },
    "id": "4t-JmzRvjnBj"
   },
   "outputs": [],
   "source": [
    "model.add(tf.keras.layers.Dense(units=10, activation='softmax'))"
   ]
  },
  {
   "cell_type": "code",
   "execution_count": 45,
   "metadata": {
    "colab": {
     "base_uri": "https://localhost:8080/"
    },
    "executionInfo": {
     "elapsed": 27,
     "status": "ok",
     "timestamp": 1637735971727,
     "user": {
      "displayName": "Abhishek Gajbhiye",
      "photoUrl": "https://lh3.googleusercontent.com/a-/AOh14GgW0O8kunk-ZPyfVf2yoMjJ1E21N_FfD-5Ht-zVW2I=s64",
      "userId": "03842221385532258201"
     },
     "user_tz": -330
    },
    "id": "aRr3bCU-ti06",
    "outputId": "8b2c76dd-22a2-4ed9-9b8a-f2d45492b74b"
   },
   "outputs": [
    {
     "name": "stdout",
     "output_type": "stream",
     "text": [
      "Model: \"sequential_1\"\n",
      "_________________________________________________________________\n",
      " Layer (type)                Output Shape              Param #   \n",
      "=================================================================\n",
      " conv2d_4 (Conv2D)           (None, 32, 32, 94)        2632      \n",
      "                                                                 \n",
      " conv2d_5 (Conv2D)           (None, 32, 32, 94)        79618     \n",
      "                                                                 \n",
      " max_pooling2d_2 (MaxPooling  (None, 16, 16, 94)       0         \n",
      " 2D)                                                             \n",
      "                                                                 \n",
      " conv2d_6 (Conv2D)           (None, 16, 16, 64)        54208     \n",
      "                                                                 \n",
      " conv2d_7 (Conv2D)           (None, 16, 16, 64)        36928     \n",
      "                                                                 \n",
      " max_pooling2d_3 (MaxPooling  (None, 8, 8, 64)         0         \n",
      " 2D)                                                             \n",
      "                                                                 \n",
      " flatten_1 (Flatten)         (None, 4096)              0         \n",
      "                                                                 \n",
      " dense_2 (Dense)             (None, 128)               524416    \n",
      "                                                                 \n",
      " dense_3 (Dense)             (None, 10)                1290      \n",
      "                                                                 \n",
      "=================================================================\n",
      "Total params: 699,092\n",
      "Trainable params: 699,092\n",
      "Non-trainable params: 0\n",
      "_________________________________________________________________\n"
     ]
    }
   ],
   "source": [
    "model.summary()"
   ]
  },
  {
   "cell_type": "markdown",
   "metadata": {
    "id": "DYgvbNihtprw"
   },
   "source": [
    "### Compiling the model\n",
    "\n",
    "#### sparse_categorical_accuracy\n",
    "sparse_categorical_accuracy checks to see if the maximal true value is equal to the index of the maximal predicted value.\n",
    "\n",
    "https://stackoverflow.com/questions/44477489/keras-difference-between-categorical-accuracy-and-sparse-categorical-accuracy "
   ]
  },
  {
   "cell_type": "code",
   "execution_count": 46,
   "metadata": {
    "executionInfo": {
     "elapsed": 16,
     "status": "ok",
     "timestamp": 1637735971728,
     "user": {
      "displayName": "Abhishek Gajbhiye",
      "photoUrl": "https://lh3.googleusercontent.com/a-/AOh14GgW0O8kunk-ZPyfVf2yoMjJ1E21N_FfD-5Ht-zVW2I=s64",
      "userId": "03842221385532258201"
     },
     "user_tz": -330
    },
    "id": "Vrz7oRydm0Zp"
   },
   "outputs": [],
   "source": [
    "opt = tf.keras.optimizers.Adamax( learning_rate = 10**-3)"
   ]
  },
  {
   "cell_type": "code",
   "execution_count": 47,
   "metadata": {
    "executionInfo": {
     "elapsed": 16,
     "status": "ok",
     "timestamp": 1637735971729,
     "user": {
      "displayName": "Abhishek Gajbhiye",
      "photoUrl": "https://lh3.googleusercontent.com/a-/AOh14GgW0O8kunk-ZPyfVf2yoMjJ1E21N_FfD-5Ht-zVW2I=s64",
      "userId": "03842221385532258201"
     },
     "user_tz": -330
    },
    "id": "oYHELxz4tsa-"
   },
   "outputs": [],
   "source": [
    "model.compile(loss=\"sparse_categorical_crossentropy\",\n",
    "              optimizer=opt, metrics=[\"sparse_categorical_accuracy\"])"
   ]
  },
  {
   "cell_type": "markdown",
   "metadata": {
    "id": "Gox3SmwUtwgX"
   },
   "source": [
    "### Training the model"
   ]
  },
  {
   "cell_type": "code",
   "execution_count": 48,
   "metadata": {
    "colab": {
     "base_uri": "https://localhost:8080/"
    },
    "executionInfo": {
     "elapsed": 562785,
     "status": "ok",
     "timestamp": 1637736534499,
     "user": {
      "displayName": "Abhishek Gajbhiye",
      "photoUrl": "https://lh3.googleusercontent.com/a-/AOh14GgW0O8kunk-ZPyfVf2yoMjJ1E21N_FfD-5Ht-zVW2I=s64",
      "userId": "03842221385532258201"
     },
     "user_tz": -330
    },
    "id": "D3MHvRYKe9fN",
    "outputId": "92440b61-4141-49a0-98ac-f29bc5f765ae"
   },
   "outputs": [
    {
     "name": "stdout",
     "output_type": "stream",
     "text": [
      "Epoch 1/18\n",
      "1563/1563 [==============================] - 29s 18ms/step - loss: 1.4404 - sparse_categorical_accuracy: 0.4806\n",
      "Epoch 2/18\n",
      "1563/1563 [==============================] - 29s 18ms/step - loss: 0.9949 - sparse_categorical_accuracy: 0.6532\n",
      "Epoch 3/18\n",
      "1563/1563 [==============================] - 28s 18ms/step - loss: 0.8048 - sparse_categorical_accuracy: 0.7217\n",
      "Epoch 4/18\n",
      "1563/1563 [==============================] - 28s 18ms/step - loss: 0.6845 - sparse_categorical_accuracy: 0.7622\n",
      "Epoch 5/18\n",
      "1563/1563 [==============================] - 29s 18ms/step - loss: 0.5852 - sparse_categorical_accuracy: 0.7957\n",
      "Epoch 6/18\n",
      "1563/1563 [==============================] - 28s 18ms/step - loss: 0.5020 - sparse_categorical_accuracy: 0.8252\n",
      "Epoch 7/18\n",
      "1563/1563 [==============================] - 29s 18ms/step - loss: 0.4172 - sparse_categorical_accuracy: 0.8556\n",
      "Epoch 8/18\n",
      "1563/1563 [==============================] - 29s 18ms/step - loss: 0.3432 - sparse_categorical_accuracy: 0.8791\n",
      "Epoch 9/18\n",
      "1563/1563 [==============================] - 28s 18ms/step - loss: 0.2713 - sparse_categorical_accuracy: 0.9060\n",
      "Epoch 10/18\n",
      "1563/1563 [==============================] - 28s 18ms/step - loss: 0.2046 - sparse_categorical_accuracy: 0.9284\n",
      "Epoch 11/18\n",
      "1563/1563 [==============================] - 28s 18ms/step - loss: 0.1517 - sparse_categorical_accuracy: 0.9483\n",
      "Epoch 12/18\n",
      "1563/1563 [==============================] - 29s 18ms/step - loss: 0.1082 - sparse_categorical_accuracy: 0.9645\n",
      "Epoch 13/18\n",
      "1563/1563 [==============================] - 28s 18ms/step - loss: 0.0754 - sparse_categorical_accuracy: 0.9746\n",
      "Epoch 14/18\n",
      "1563/1563 [==============================] - 28s 18ms/step - loss: 0.0509 - sparse_categorical_accuracy: 0.9832\n",
      "Epoch 15/18\n",
      "1563/1563 [==============================] - 28s 18ms/step - loss: 0.0404 - sparse_categorical_accuracy: 0.9868\n",
      "Epoch 16/18\n",
      "1563/1563 [==============================] - 28s 18ms/step - loss: 0.0301 - sparse_categorical_accuracy: 0.9909\n",
      "Epoch 17/18\n",
      "1563/1563 [==============================] - 28s 18ms/step - loss: 0.0244 - sparse_categorical_accuracy: 0.9927\n",
      "Epoch 18/18\n",
      "1563/1563 [==============================] - 28s 18ms/step - loss: 0.0195 - sparse_categorical_accuracy: 0.9939\n"
     ]
    },
    {
     "data": {
      "text/plain": [
       "<keras.callbacks.History at 0x7fe762e49f50>"
      ]
     },
     "execution_count": 48,
     "metadata": {},
     "output_type": "execute_result"
    }
   ],
   "source": [
    "model.fit(X_train, y_train, epochs=18)"
   ]
  },
  {
   "cell_type": "markdown",
   "metadata": {
    "id": "D8C7Pm0NuOrJ"
   },
   "source": [
    "### Model evaluation and prediction"
   ]
  },
  {
   "cell_type": "code",
   "execution_count": 49,
   "metadata": {
    "colab": {
     "base_uri": "https://localhost:8080/"
    },
    "executionInfo": {
     "elapsed": 5510,
     "status": "ok",
     "timestamp": 1637736539992,
     "user": {
      "displayName": "Abhishek Gajbhiye",
      "photoUrl": "https://lh3.googleusercontent.com/a-/AOh14GgW0O8kunk-ZPyfVf2yoMjJ1E21N_FfD-5Ht-zVW2I=s64",
      "userId": "03842221385532258201"
     },
     "user_tz": -330
    },
    "id": "Z9r8TtNet3D0",
    "outputId": "0407c781-b2cb-4806-c277-08c4d6cdc313"
   },
   "outputs": [
    {
     "name": "stdout",
     "output_type": "stream",
     "text": [
      "313/313 [==============================] - 3s 9ms/step - loss: 1.7143 - sparse_categorical_accuracy: 0.7640\n"
     ]
    }
   ],
   "source": [
    "test_loss, test_accuracy = model.evaluate(X_test, y_test)"
   ]
  },
  {
   "cell_type": "code",
   "execution_count": 50,
   "metadata": {
    "colab": {
     "base_uri": "https://localhost:8080/"
    },
    "executionInfo": {
     "elapsed": 39,
     "status": "ok",
     "timestamp": 1637736539993,
     "user": {
      "displayName": "Abhishek Gajbhiye",
      "photoUrl": "https://lh3.googleusercontent.com/a-/AOh14GgW0O8kunk-ZPyfVf2yoMjJ1E21N_FfD-5Ht-zVW2I=s64",
      "userId": "03842221385532258201"
     },
     "user_tz": -330
    },
    "id": "0rpAPpfzuV0p",
    "outputId": "fc6e053f-adee-4c1d-af97-be8703c38dac"
   },
   "outputs": [
    {
     "name": "stdout",
     "output_type": "stream",
     "text": [
      "Test accuracy: 0.7639999985694885\n"
     ]
    }
   ],
   "source": [
    "print(\"Test accuracy: {}\".format(test_accuracy))"
   ]
  },
  {
   "cell_type": "code",
   "execution_count": 50,
   "metadata": {
    "executionInfo": {
     "elapsed": 28,
     "status": "ok",
     "timestamp": 1637736539995,
     "user": {
      "displayName": "Abhishek Gajbhiye",
      "photoUrl": "https://lh3.googleusercontent.com/a-/AOh14GgW0O8kunk-ZPyfVf2yoMjJ1E21N_FfD-5Ht-zVW2I=s64",
      "userId": "03842221385532258201"
     },
     "user_tz": -330
    },
    "id": "VSKfLqi5urEh"
   },
   "outputs": [],
   "source": []
  }
 ],
 "metadata": {
  "accelerator": "GPU",
  "colab": {
   "collapsed_sections": [],
   "name": "Building a Convolutional Neural Network in TensorFlow 2.0 .ipynb",
   "provenance": [
    {
     "file_id": "11eF0dRN2zWmXeBI3vQa2OTE-gzRp3Q7o",
     "timestamp": 1637732040057
    }
   ]
  },
  "kernelspec": {
   "display_name": "Python 3",
   "language": "python",
   "name": "python3"
  },
  "language_info": {
   "codemirror_mode": {
    "name": "ipython",
    "version": 3
   },
   "file_extension": ".py",
   "mimetype": "text/x-python",
   "name": "python",
   "nbconvert_exporter": "python",
   "pygments_lexer": "ipython3",
   "version": "3.8.8"
  }
 },
 "nbformat": 4,
 "nbformat_minor": 1
}
