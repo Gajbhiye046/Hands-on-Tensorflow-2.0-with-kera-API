{
 "cells": [
  {
   "cell_type": "markdown",
   "metadata": {
    "id": "gNCP2RT3RNtz"
   },
   "source": [
    "## Stage 1: Installing dependencies and setting up the environment"
   ]
  },
  {
   "cell_type": "code",
   "execution_count": 1,
   "metadata": {
    "executionInfo": {
     "elapsed": 556,
     "status": "ok",
     "timestamp": 1638270311839,
     "user": {
      "displayName": "Abhishek Gajbhiye",
      "photoUrl": "https://lh3.googleusercontent.com/a-/AOh14GgW0O8kunk-ZPyfVf2yoMjJ1E21N_FfD-5Ht-zVW2I=s64",
      "userId": "03842221385532258201"
     },
     "user_tz": -330
    },
    "id": "RtAydW1fQ2Kg"
   },
   "outputs": [],
   "source": [
    "#!pip install tensorflow-gpu"
   ]
  },
  {
   "cell_type": "markdown",
   "metadata": {
    "id": "i7guNG2NSYm9"
   },
   "source": [
    "## Stage 2: Importing project dependencies"
   ]
  },
  {
   "cell_type": "code",
   "execution_count": 2,
   "metadata": {
    "colab": {
     "base_uri": "https://localhost:8080/",
     "height": 36
    },
    "executionInfo": {
     "elapsed": 3445,
     "status": "ok",
     "timestamp": 1638270316561,
     "user": {
      "displayName": "Abhishek Gajbhiye",
      "photoUrl": "https://lh3.googleusercontent.com/a-/AOh14GgW0O8kunk-ZPyfVf2yoMjJ1E21N_FfD-5Ht-zVW2I=s64",
      "userId": "03842221385532258201"
     },
     "user_tz": -330
    },
    "id": "p3kH8SQSSA6c",
    "outputId": "384b95a0-b72c-4721-a329-45f99ef3f1f0"
   },
   "outputs": [
    {
     "data": {
      "application/vnd.google.colaboratory.intrinsic+json": {
       "type": "string"
      },
      "text/plain": [
       "'2.7.0'"
      ]
     },
     "execution_count": 2,
     "metadata": {},
     "output_type": "execute_result"
    }
   ],
   "source": [
    "import tensorflow as tf\n",
    "import numpy as np\n",
    "\n",
    "from tensorflow.keras.datasets import fashion_mnist\n",
    "\n",
    "tf.__version__"
   ]
  },
  {
   "cell_type": "markdown",
   "metadata": {
    "id": "qUemNsucSpTc"
   },
   "source": [
    "## Stage 3: Dataset preprocessing"
   ]
  },
  {
   "cell_type": "markdown",
   "metadata": {
    "id": "NTxQSWirSs2l"
   },
   "source": [
    "### Loading the FashionMNIST dataset"
   ]
  },
  {
   "cell_type": "code",
   "execution_count": 3,
   "metadata": {
    "colab": {
     "base_uri": "https://localhost:8080/"
    },
    "executionInfo": {
     "elapsed": 575,
     "status": "ok",
     "timestamp": 1638270317104,
     "user": {
      "displayName": "Abhishek Gajbhiye",
      "photoUrl": "https://lh3.googleusercontent.com/a-/AOh14GgW0O8kunk-ZPyfVf2yoMjJ1E21N_FfD-5Ht-zVW2I=s64",
      "userId": "03842221385532258201"
     },
     "user_tz": -330
    },
    "id": "3s83WwJ2SnDr",
    "outputId": "894b1997-8e01-457b-f709-ac5c2e9aa019"
   },
   "outputs": [
    {
     "name": "stdout",
     "output_type": "stream",
     "text": [
      "Downloading data from https://storage.googleapis.com/tensorflow/tf-keras-datasets/train-labels-idx1-ubyte.gz\n",
      "32768/29515 [=================================] - 0s 0us/step\n",
      "40960/29515 [=========================================] - 0s 0us/step\n",
      "Downloading data from https://storage.googleapis.com/tensorflow/tf-keras-datasets/train-images-idx3-ubyte.gz\n",
      "26427392/26421880 [==============================] - 0s 0us/step\n",
      "26435584/26421880 [==============================] - 0s 0us/step\n",
      "Downloading data from https://storage.googleapis.com/tensorflow/tf-keras-datasets/t10k-labels-idx1-ubyte.gz\n",
      "16384/5148 [===============================================================================================] - 0s 0us/step\n",
      "Downloading data from https://storage.googleapis.com/tensorflow/tf-keras-datasets/t10k-images-idx3-ubyte.gz\n",
      "4423680/4422102 [==============================] - 0s 0us/step\n",
      "4431872/4422102 [==============================] - 0s 0us/step\n"
     ]
    }
   ],
   "source": [
    "(X_train, y_train), (X_test, y_test) = fashion_mnist.load_data()"
   ]
  },
  {
   "cell_type": "markdown",
   "metadata": {
    "id": "4OvP_vFiSwmc"
   },
   "source": [
    "### Image normalization"
   ]
  },
  {
   "cell_type": "code",
   "execution_count": 4,
   "metadata": {
    "executionInfo": {
     "elapsed": 11,
     "status": "ok",
     "timestamp": 1638270317106,
     "user": {
      "displayName": "Abhishek Gajbhiye",
      "photoUrl": "https://lh3.googleusercontent.com/a-/AOh14GgW0O8kunk-ZPyfVf2yoMjJ1E21N_FfD-5Ht-zVW2I=s64",
      "userId": "03842221385532258201"
     },
     "user_tz": -330
    },
    "id": "rODvuie6Sz06"
   },
   "outputs": [],
   "source": [
    "X_train = X_train / 255.\n",
    "X_test = X_test / 255."
   ]
  },
  {
   "cell_type": "markdown",
   "metadata": {
    "id": "hky7XzH3S1sQ"
   },
   "source": [
    "### Reshaping of the dataset"
   ]
  },
  {
   "cell_type": "code",
   "execution_count": 5,
   "metadata": {
    "colab": {
     "base_uri": "https://localhost:8080/"
    },
    "executionInfo": {
     "elapsed": 1201,
     "status": "ok",
     "timestamp": 1638270318297,
     "user": {
      "displayName": "Abhishek Gajbhiye",
      "photoUrl": "https://lh3.googleusercontent.com/a-/AOh14GgW0O8kunk-ZPyfVf2yoMjJ1E21N_FfD-5Ht-zVW2I=s64",
      "userId": "03842221385532258201"
     },
     "user_tz": -330
    },
    "id": "aBxZsTPBS4XJ",
    "outputId": "30cd1902-fedb-41ba-c403-88c0e4404f87"
   },
   "outputs": [
    {
     "data": {
      "text/plain": [
       "(60000, 28, 28)"
      ]
     },
     "execution_count": 5,
     "metadata": {},
     "output_type": "execute_result"
    }
   ],
   "source": [
    "X_train.shape"
   ]
  },
  {
   "cell_type": "code",
   "execution_count": 6,
   "metadata": {
    "executionInfo": {
     "elapsed": 11,
     "status": "ok",
     "timestamp": 1638270318299,
     "user": {
      "displayName": "Abhishek Gajbhiye",
      "photoUrl": "https://lh3.googleusercontent.com/a-/AOh14GgW0O8kunk-ZPyfVf2yoMjJ1E21N_FfD-5Ht-zVW2I=s64",
      "userId": "03842221385532258201"
     },
     "user_tz": -330
    },
    "id": "5rPdViS9T1Xb"
   },
   "outputs": [],
   "source": [
    "X_train = X_train.reshape(-1, 28*28)\n",
    "X_test = X_test.reshape(-1, 28*28)"
   ]
  },
  {
   "cell_type": "code",
   "execution_count": 7,
   "metadata": {
    "colab": {
     "base_uri": "https://localhost:8080/"
    },
    "executionInfo": {
     "elapsed": 9,
     "status": "ok",
     "timestamp": 1638270318300,
     "user": {
      "displayName": "Abhishek Gajbhiye",
      "photoUrl": "https://lh3.googleusercontent.com/a-/AOh14GgW0O8kunk-ZPyfVf2yoMjJ1E21N_FfD-5Ht-zVW2I=s64",
      "userId": "03842221385532258201"
     },
     "user_tz": -330
    },
    "id": "Fbmf82l2UH3a",
    "outputId": "ca04f3e7-db8d-44fa-f453-df2766e0e00d"
   },
   "outputs": [
    {
     "data": {
      "text/plain": [
       "(60000, 784)"
      ]
     },
     "execution_count": 7,
     "metadata": {},
     "output_type": "execute_result"
    }
   ],
   "source": [
    "X_train.shape"
   ]
  },
  {
   "cell_type": "markdown",
   "metadata": {
    "id": "o7g7SeZgUWCo"
   },
   "source": [
    "## Stage 4: Building a model"
   ]
  },
  {
   "cell_type": "markdown",
   "metadata": {
    "id": "HfqQPaYVUY2S"
   },
   "source": [
    "### Defining the model"
   ]
  },
  {
   "cell_type": "code",
   "execution_count": 8,
   "metadata": {
    "executionInfo": {
     "elapsed": 1753,
     "status": "ok",
     "timestamp": 1638270320047,
     "user": {
      "displayName": "Abhishek Gajbhiye",
      "photoUrl": "https://lh3.googleusercontent.com/a-/AOh14GgW0O8kunk-ZPyfVf2yoMjJ1E21N_FfD-5Ht-zVW2I=s64",
      "userId": "03842221385532258201"
     },
     "user_tz": -330
    },
    "id": "db7lvvFXUKe6"
   },
   "outputs": [],
   "source": [
    "model = tf.keras.models.Sequential()"
   ]
  },
  {
   "cell_type": "markdown",
   "metadata": {
    "id": "RrwtIwtCUa0g"
   },
   "source": [
    "### Building the model"
   ]
  },
  {
   "cell_type": "code",
   "execution_count": 9,
   "metadata": {
    "executionInfo": {
     "elapsed": 1733,
     "status": "ok",
     "timestamp": 1638270321766,
     "user": {
      "displayName": "Abhishek Gajbhiye",
      "photoUrl": "https://lh3.googleusercontent.com/a-/AOh14GgW0O8kunk-ZPyfVf2yoMjJ1E21N_FfD-5Ht-zVW2I=s64",
      "userId": "03842221385532258201"
     },
     "user_tz": -330
    },
    "id": "pnSHfe5XUcp1"
   },
   "outputs": [],
   "source": [
    "model.add(tf.keras.layers.Dense(units=128, activation='relu', input_shape=(784,)))\n",
    "model.add(tf.keras.layers.Dropout(rate=0.2))\n",
    "model.add(tf.keras.layers.Dense(units=10, activation='softmax'))"
   ]
  },
  {
   "cell_type": "markdown",
   "metadata": {
    "id": "Ed_YGh-5UdL3"
   },
   "source": [
    "### Compiling the model"
   ]
  },
  {
   "cell_type": "code",
   "execution_count": 10,
   "metadata": {
    "executionInfo": {
     "elapsed": 18,
     "status": "ok",
     "timestamp": 1638270321767,
     "user": {
      "displayName": "Abhishek Gajbhiye",
      "photoUrl": "https://lh3.googleusercontent.com/a-/AOh14GgW0O8kunk-ZPyfVf2yoMjJ1E21N_FfD-5Ht-zVW2I=s64",
      "userId": "03842221385532258201"
     },
     "user_tz": -330
    },
    "id": "JZVOTYQXUgC5"
   },
   "outputs": [],
   "source": [
    "model.compile(optimizer='adam', loss='sparse_categorical_crossentropy', metrics=['sparse_categorical_accuracy'])"
   ]
  },
  {
   "cell_type": "markdown",
   "metadata": {
    "id": "ZnV-v8ooWXPw"
   },
   "source": [
    "### Training the model"
   ]
  },
  {
   "cell_type": "code",
   "execution_count": 11,
   "metadata": {
    "colab": {
     "base_uri": "https://localhost:8080/"
    },
    "executionInfo": {
     "elapsed": 26284,
     "status": "ok",
     "timestamp": 1638270348035,
     "user": {
      "displayName": "Abhishek Gajbhiye",
      "photoUrl": "https://lh3.googleusercontent.com/a-/AOh14GgW0O8kunk-ZPyfVf2yoMjJ1E21N_FfD-5Ht-zVW2I=s64",
      "userId": "03842221385532258201"
     },
     "user_tz": -330
    },
    "id": "oZnrU1MHVB4b",
    "outputId": "dfd25873-1d7c-4e7b-f9a4-e47783f197af"
   },
   "outputs": [
    {
     "name": "stdout",
     "output_type": "stream",
     "text": [
      "Epoch 1/5\n",
      "1875/1875 [==============================] - 7s 3ms/step - loss: 0.5322 - sparse_categorical_accuracy: 0.8109\n",
      "Epoch 2/5\n",
      "1875/1875 [==============================] - 5s 3ms/step - loss: 0.3988 - sparse_categorical_accuracy: 0.8564\n",
      "Epoch 3/5\n",
      "1875/1875 [==============================] - 5s 3ms/step - loss: 0.3653 - sparse_categorical_accuracy: 0.8666\n",
      "Epoch 4/5\n",
      "1875/1875 [==============================] - 5s 3ms/step - loss: 0.3437 - sparse_categorical_accuracy: 0.8721\n",
      "Epoch 5/5\n",
      "1875/1875 [==============================] - 5s 3ms/step - loss: 0.3271 - sparse_categorical_accuracy: 0.8805\n"
     ]
    },
    {
     "data": {
      "text/plain": [
       "<keras.callbacks.History at 0x7f0b301c8910>"
      ]
     },
     "execution_count": 11,
     "metadata": {},
     "output_type": "execute_result"
    }
   ],
   "source": [
    "model.fit(X_train, y_train, epochs=5)"
   ]
  },
  {
   "cell_type": "markdown",
   "metadata": {
    "id": "P2GalF1WWZDk"
   },
   "source": [
    "### Evaluating the model"
   ]
  },
  {
   "cell_type": "code",
   "execution_count": 12,
   "metadata": {
    "colab": {
     "base_uri": "https://localhost:8080/"
    },
    "executionInfo": {
     "elapsed": 1464,
     "status": "ok",
     "timestamp": 1638270349485,
     "user": {
      "displayName": "Abhishek Gajbhiye",
      "photoUrl": "https://lh3.googleusercontent.com/a-/AOh14GgW0O8kunk-ZPyfVf2yoMjJ1E21N_FfD-5Ht-zVW2I=s64",
      "userId": "03842221385532258201"
     },
     "user_tz": -330
    },
    "id": "zUO2saLWWa3q",
    "outputId": "4f6c2f1f-e67c-4b61-dc48-04dc345372c7"
   },
   "outputs": [
    {
     "name": "stdout",
     "output_type": "stream",
     "text": [
      "313/313 [==============================] - 1s 3ms/step - loss: 0.3625 - sparse_categorical_accuracy: 0.8649\n",
      "Test accuracy: 0.8648999929428101\n"
     ]
    }
   ],
   "source": [
    "test_loss, test_accuracy = model.evaluate(X_test, y_test)\n",
    "print(\"Test accuracy: {}\".format(test_accuracy))"
   ]
  },
  {
   "cell_type": "markdown",
   "metadata": {
    "id": "AV_Vnn1IXbUN"
   },
   "source": [
    "## Stage 5: Converting the model into TensorFlow Lite version"
   ]
  },
  {
   "cell_type": "markdown",
   "metadata": {
    "id": "bw6WoYDeXhA4"
   },
   "source": [
    "### Saving the model"
   ]
  },
  {
   "cell_type": "code",
   "execution_count": 13,
   "metadata": {
    "executionInfo": {
     "elapsed": 569,
     "status": "ok",
     "timestamp": 1638270350047,
     "user": {
      "displayName": "Abhishek Gajbhiye",
      "photoUrl": "https://lh3.googleusercontent.com/a-/AOh14GgW0O8kunk-ZPyfVf2yoMjJ1E21N_FfD-5Ht-zVW2I=s64",
      "userId": "03842221385532258201"
     },
     "user_tz": -330
    },
    "id": "Lu3wsEWAXMFC"
   },
   "outputs": [],
   "source": [
    "model_name = 'fashion_mobile_model.h5'\n",
    "tf.keras.models.save_model(model, model_name)"
   ]
  },
  {
   "cell_type": "markdown",
   "metadata": {
    "id": "Bvz3KYQWYKe2"
   },
   "source": [
    "### Creating the TFLite Converter"
   ]
  },
  {
   "cell_type": "code",
   "execution_count": 15,
   "metadata": {
    "executionInfo": {
     "elapsed": 583,
     "status": "ok",
     "timestamp": 1638270943041,
     "user": {
      "displayName": "Abhishek Gajbhiye",
      "photoUrl": "https://lh3.googleusercontent.com/a-/AOh14GgW0O8kunk-ZPyfVf2yoMjJ1E21N_FfD-5Ht-zVW2I=s64",
      "userId": "03842221385532258201"
     },
     "user_tz": -330
    },
    "id": "7mgW1OGcYp5b"
   },
   "outputs": [],
   "source": [
    "converter = tf.lite.TFLiteConverter.from_keras_model(model)"
   ]
  },
  {
   "cell_type": "markdown",
   "metadata": {
    "id": "R2kkEO_bZbcI"
   },
   "source": [
    "### Converting the model"
   ]
  },
  {
   "cell_type": "code",
   "execution_count": 16,
   "metadata": {
    "colab": {
     "base_uri": "https://localhost:8080/"
    },
    "executionInfo": {
     "elapsed": 1563,
     "status": "ok",
     "timestamp": 1638270948385,
     "user": {
      "displayName": "Abhishek Gajbhiye",
      "photoUrl": "https://lh3.googleusercontent.com/a-/AOh14GgW0O8kunk-ZPyfVf2yoMjJ1E21N_FfD-5Ht-zVW2I=s64",
      "userId": "03842221385532258201"
     },
     "user_tz": -330
    },
    "id": "-TpOJV5mZTRC",
    "outputId": "e9b19b90-8d12-4da8-e3c0-624f85fae19e"
   },
   "outputs": [
    {
     "name": "stdout",
     "output_type": "stream",
     "text": [
      "INFO:tensorflow:Assets written to: /tmp/tmpapryplhm/assets\n"
     ]
    },
    {
     "name": "stderr",
     "output_type": "stream",
     "text": [
      "WARNING:absl:Buffer deduplication procedure will be skipped when flatbuffer library is not properly loaded\n"
     ]
    }
   ],
   "source": [
    "tflite_model = converter.convert()"
   ]
  },
  {
   "cell_type": "markdown",
   "metadata": {
    "id": "dXHT978hZzX3"
   },
   "source": [
    "### Saving the TFLite version of the model"
   ]
  },
  {
   "cell_type": "code",
   "execution_count": 17,
   "metadata": {
    "executionInfo": {
     "elapsed": 580,
     "status": "ok",
     "timestamp": 1638270951986,
     "user": {
      "displayName": "Abhishek Gajbhiye",
      "photoUrl": "https://lh3.googleusercontent.com/a-/AOh14GgW0O8kunk-ZPyfVf2yoMjJ1E21N_FfD-5Ht-zVW2I=s64",
      "userId": "03842221385532258201"
     },
     "user_tz": -330
    },
    "id": "9jqZ2zpmZnez"
   },
   "outputs": [],
   "source": [
    "with open(\"tf_model.tflite\", \"wb\") as f:\n",
    "  f.write(tflite_model)"
   ]
  },
  {
   "cell_type": "code",
   "execution_count": 17,
   "metadata": {
    "executionInfo": {
     "elapsed": 743,
     "status": "ok",
     "timestamp": 1638270966696,
     "user": {
      "displayName": "Abhishek Gajbhiye",
      "photoUrl": "https://lh3.googleusercontent.com/a-/AOh14GgW0O8kunk-ZPyfVf2yoMjJ1E21N_FfD-5Ht-zVW2I=s64",
      "userId": "03842221385532258201"
     },
     "user_tz": -330
    },
    "id": "7tMRuHHXuvMp"
   },
   "outputs": [],
   "source": []
  }
 ],
 "metadata": {
  "accelerator": "GPU",
  "colab": {
   "collapsed_sections": [],
   "name": "Preparing a TensorFlow model for a mobile device with TensorFlow Lite.ipynb",
   "provenance": [
    {
     "file_id": "1xAqmrIvK855NLr7AkUuxBwsJV-yrbcdq",
     "timestamp": 1638253210896
    }
   ]
  },
  "kernelspec": {
   "display_name": "Python 3",
   "language": "python",
   "name": "python3"
  },
  "language_info": {
   "codemirror_mode": {
    "name": "ipython",
    "version": 3
   },
   "file_extension": ".py",
   "mimetype": "text/x-python",
   "name": "python",
   "nbconvert_exporter": "python",
   "pygments_lexer": "ipython3",
   "version": "3.8.8"
  }
 },
 "nbformat": 4,
 "nbformat_minor": 1
}
